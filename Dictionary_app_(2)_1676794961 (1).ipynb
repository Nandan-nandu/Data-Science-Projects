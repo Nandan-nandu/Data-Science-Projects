{
 "cells": [
  {
   "cell_type": "markdown",
   "id": "cc50d000",
   "metadata": {},
   "source": [
    "### 1A: English Dictionary App"
   ]
  },
  {
   "cell_type": "markdown",
   "id": "480bd20c",
   "metadata": {},
   "source": [
    "#### This project uses the skills learnt from week 1 to week 6. The aim of this project is to create an English Dictionary app that returns definitions of English words."
   ]
  },
  {
   "cell_type": "code",
   "execution_count": 1,
   "id": "5bfc2836",
   "metadata": {},
   "outputs": [
    {
     "name": "stdout",
     "output_type": "stream",
     "text": [
      "WELCOME TO ENGLISH DICTIONARY!!!\n",
      "Option 1: Search Word\n",
      "Option 2: Add Word\n",
      "Option 3: Update the meaning\n",
      "Option 4: Exit\n",
      "Enter the above option: 1\n",
      "Enter the word you want to search: home\n",
      "******************************\n",
      "Meaning is See Homelyn.\n",
      "\n",
      "1. One's own dwelling place; the house in which one lives; esp., the house in which one lives with his family; the habitual abode of one's family; also, one's birthplace. The disciples went away again to their own home. John xx. 10. Home is the sacred refuge of our life. Dryden. Home! home! sweet, sweet home! There's no place like home. Payne. 2. One's native land; the place or country in which one dwells; the place where one's ancestors dwell or dwelt. \"Our old home [England].\" Hawthorne. 3. The abiding place of the affections, especially of the domestic affections. He entered in his house -- his home no more, For without hearts there is no home. Byron. 4. The locality where a thing is usually found, or was first found, or where it is naturally abundant; habitat; seat; as, the home of the pine. Her eyes are homes of silent prayer. Tennyson. Flandria, by plenty made the home of war. Prior. 5. A place of refuge and rest; an asylum; as, a home for outcasts; a home for the blind; hence, esp., the grave; the final rest; also, the native and eternal dwelling place of the soul. Man goeth to his long home, and the mourners go about the streets. Eccl. xii. 5. 6. (Baseball)  The home base; he started for home. At home.(a) At one's own house, or lodgings. (b) In one's own town or country; as, peace abroad and at home. (c) Prepared to receive callers. -- Home department, the department of executive administration, by which the internal affairs of a country are managed. [Eng.] To be at home on any subject, to be conversant or familiar with it. -- To feel at home, to be at one's ease. -- To make one's self at home, to conduct one's self with as much freedom as if at home. Syn. -- Tenement; house; dwelling; abode; domicile.\n",
      "\n",
      "1. Of or pertaining to one's dwelling or country; domestic; not foreign; as home manufactures; home comforts. 2. Close; personal; pointed; as, a home thrust. Home base (Baseball), the base at which the batsman stands and which is the last goal in making a run. -- Home farm, grounds, etc., the farm, grounds, etc., adjacent to the residence of the owner. -- Home lot, an inclosed plot on which the owner's home stands. [U. S.] -- Home rule, rule or government of an appendent or dependent country, as to all local and internal legislation, by means of a governing power vested in the people within the country itself, in contradistinction to a government established by the dominant country; as, home rule in Ireland. Also used adjectively; as, home- rule members of Parliament. -- Home ruler, one who favors or advocates home rule. -- Home run (Baseball), a complete circuit of the bases made before the batted ball is returned to the home base. -- Home stretch (Sport.), that part of a race course between the last curve and the winning post. -- Home thrust, a well directed or effective thrust; one that wounds in a vital part; hence, in controversy, a personal attack.\n",
      "\n",
      "1. To one's home or country; as in the phrases, go home, come home, carry home. 2. Close; closely. How home the charge reaches us, has been made out. South. They come home to men's business and bosoms. Bacon. 3. To the place where it belongs; to the end of a course; to the full length; as, to drive a nail home; to ram a cartridge home. Wear thy good rapier bare and put it home. Shak. Note: Home is often used in the formation of compound words, many of which need no special definition; as, home-brewed, home-built, home- grown, etc. To bring home. See under Bring. -- To come home.(a) To touch or affect personally. See under Come. (b) (Naut.) To drag toward the vessel, instead of holding firm, as the cable is shortened; -- said of an anchor. -- To haul home the sheets of a sail (Naut.), to haul the clews close to the sheave hole. Totten.\n",
      "******************************\n",
      "WELCOME TO ENGLISH DICTIONARY!!!\n",
      "Option 1: Search Word\n",
      "Option 2: Add Word\n",
      "Option 3: Update the meaning\n",
      "Option 4: Exit\n",
      "Enter the above option: 4\n",
      "Thank you for using the English Dictionary!\n"
     ]
    }
   ],
   "source": [
    "import json\n",
    "\n",
    "data = json.load(open(\"words.txt\"))\n",
    "\n",
    "def word_meaning(word):\n",
    "    if word in data:\n",
    "        print(\"*\" * 30)\n",
    "        print(\"Meaning is {}\".format(data[word]))\n",
    "        print(\"*\" * 30)\n",
    "    else:\n",
    "        print(\"*\" * 30)\n",
    "        print(\"Word not found in dictionary\")\n",
    "        print(\"*\" * 30)\n",
    "\n",
    "def add_word(word, meaning):\n",
    "    if word in data:\n",
    "        print(\"*\" * 30)\n",
    "        print(\"The word already exists\")\n",
    "        print(\"*\" * 30)\n",
    "    else:\n",
    "        data[word] = meaning\n",
    "        with open(\"words.txt\", \"w\") as f:\n",
    "            json.dump(data, f)\n",
    "        print(\"*\" * 30)\n",
    "        print(\"Word added successfully\")\n",
    "        print(\"*\" * 30)\n",
    "        \n",
    "        \n",
    "def update_word(word):\n",
    "    if word in data:\n",
    "        new_meaning=input(\"Enter the new meaning of the word.\")\n",
    "        data[word] = new_meaning\n",
    "        with open(\"words.txt\", \"w\") as f:\n",
    "            json.dump(data, f)\n",
    "        print(\"*\" * 30)\n",
    "        print(\"new meaning added successfully\")\n",
    "        print(\"*\" * 30)\n",
    "    \n",
    "\n",
    "while True:\n",
    "    print(\"WELCOME TO ENGLISH DICTIONARY!!!\")\n",
    "    print(\"Option 1: Search Word\")\n",
    "    print(\"Option 2: Add Word\")\n",
    "    print(\"Option 3: Update the meaning\")\n",
    "    print(\"Option 4: Exit\")\n",
    "    \n",
    "    option = input(\"Enter the above option: \")\n",
    "    if option == \"1\":\n",
    "        word = input(\"Enter the word you want to search: \")\n",
    "        word_meaning(word)\n",
    "        \n",
    "    elif option == \"2\":\n",
    "        word = input(\"What word do you want to add: \")\n",
    "        meaning = input(\"Enter the meaning of the word: \")\n",
    "        add_word(word, meaning)\n",
    "        \n",
    "    elif option == \"3\":\n",
    "        word=input(\"Enter the word you want to update..\")\n",
    "        update_word(word)\n",
    "        \n",
    "    elif option == \"4\":\n",
    "        print(\"Thank you for using the English Dictionary!\")\n",
    "        break\n",
    "        \n",
    "    else:\n",
    "        print(\"Invalid option. Please try again.\")\n"
   ]
  },
  {
   "cell_type": "markdown",
   "id": "ec3e6439",
   "metadata": {},
   "source": [
    "## "
   ]
  }
 ],
 "metadata": {
  "kernelspec": {
   "display_name": "Python 3 (ipykernel)",
   "language": "python",
   "name": "python3"
  },
  "language_info": {
   "codemirror_mode": {
    "name": "ipython",
    "version": 3
   },
   "file_extension": ".py",
   "mimetype": "text/x-python",
   "name": "python",
   "nbconvert_exporter": "python",
   "pygments_lexer": "ipython3",
   "version": "3.9.13"
  }
 },
 "nbformat": 4,
 "nbformat_minor": 5
}
